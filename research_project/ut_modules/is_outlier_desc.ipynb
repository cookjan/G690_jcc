{
 "cells": [
  {
   "cell_type": "markdown",
   "metadata": {},
   "source": [
    "is_outlier function\n",
    "\n",
    "source: https://stackoverflow.com/questions/11882393/matplotlib-disregard-outliers-when-plotting 10/30/23"
   ]
  },
  {
   "cell_type": "code",
   "execution_count": null,
   "metadata": {},
   "outputs": [],
   "source": [
    "def is_outlier(points, thresh=3.5):\n",
    "    \"\"\"\n",
    "    Returns a boolean array with True if points are outliers and False \n",
    "    otherwise.\n",
    "\n",
    "    Parameters:\n",
    "    -----------\n",
    "        points : An numobservations by numdimensions array of observations\n",
    "        thresh : The modified z-score to use as a threshold. Observations with\n",
    "            a modified z-score (based on the median absolute deviation) greater\n",
    "            than this value will be classified as outliers.\n",
    "\n",
    "    Returns:\n",
    "    --------\n",
    "        mask : A numobservations-length boolean array.\n",
    "\n",
    "    References:\n",
    "    ----------\n",
    "        Boris Iglewicz and David Hoaglin (1993), \"Volume 16: How to Detect and\n",
    "        Handle Outliers\", The ASQC Basic References in Quality Control:\n",
    "        Statistical Techniques, Edward F. Mykytka, Ph.D., Editor. \n",
    "    \"\"\"\n",
    "    if len(points.shape) == 1:\n",
    "        points = points[:,None]\n",
    "    median = np.median(points, axis=0)\n",
    "    diff = np.sum((points - median)**2, axis=-1)\n",
    "    diff = np.sqrt(diff)\n",
    "    med_abs_deviation = np.median(diff)\n",
    "\n",
    "    modified_z_score = 0.6745 * diff / med_abs_deviation\n",
    "\n",
    "    return modified_z_score > thresh\n"
   ]
  },
  {
   "cell_type": "code",
   "execution_count": null,
   "metadata": {},
   "outputs": [],
   "source": [
    "\"\"\"Example\"\"\"\n",
    "#import numpy as np\n",
    "#import matplotlib.pyplot as plt\n",
    "\n",
    "# The function above... In my case it's in a local utilities module\n",
    "#from sci_utilities import is_outlier\n",
    "\n",
    "# Generate some data\n",
    "#x = np.random.random(100)\n",
    "\n",
    "# Append a few \"bad\" points\n",
    "#x = np.r_[x, -3, -10, 100]\n",
    "\n",
    "# Keep only the \"good\" points\n",
    "# \"~\" operates as a logical not operator on boolean numpy arrays\n",
    "#filtered = x[~is_outlier(x)]\n",
    "\n",
    "# Plot the results\n",
    "#fig, (ax1, ax2) = plt.subplots(nrows=2)\n",
    "\n",
    "#ax1.hist(x)\n",
    "#ax1.set_title('Original')\n",
    "\n",
    "#ax2.hist(filtered)\n",
    "#ax2.set_title('Without Outliers')\n",
    "\n",
    "#plt.show()"
   ]
  }
 ],
 "metadata": {
  "language_info": {
   "name": "python"
  }
 },
 "nbformat": 4,
 "nbformat_minor": 2
}
