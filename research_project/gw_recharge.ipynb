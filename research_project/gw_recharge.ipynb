{
 "cells": [
  {
   "cell_type": "markdown",
   "metadata": {},
   "source": [
    "# Groundwater Recharge: historical and predicted\n",
    "\n",
    "Using data available through the FutureWater Website.\n",
    "This analysis goes through the 2050s predicted groundwater recharge in the RCP 4.5 scenario."
   ]
  },
  {
   "cell_type": "code",
   "execution_count": 1,
   "metadata": {},
   "outputs": [],
   "source": [
    "#import libraries\n",
    "import pandas as pd\n",
    "import matplotlib.pyplot as plt\n",
    "import cartopy\n",
    "import utm\n",
    "import shapefile\n",
    "import geopandas as gpd\n",
    "import numpy as np"
   ]
  },
  {
   "cell_type": "code",
   "execution_count": 4,
   "metadata": {},
   "outputs": [
    {
     "data": {
      "text/html": [
       "<div>\n",
       "<style scoped>\n",
       "    .dataframe tbody tr th:only-of-type {\n",
       "        vertical-align: middle;\n",
       "    }\n",
       "\n",
       "    .dataframe tbody tr th {\n",
       "        vertical-align: top;\n",
       "    }\n",
       "\n",
       "    .dataframe thead th {\n",
       "        text-align: right;\n",
       "    }\n",
       "</style>\n",
       "<table border=\"1\" class=\"dataframe\">\n",
       "  <thead>\n",
       "    <tr style=\"text-align: right;\">\n",
       "      <th></th>\n",
       "      <th>avg_mon_perc</th>\n",
       "      <th>subbasin</th>\n",
       "      <th>gcm_id</th>\n",
       "      <th>calendar_month</th>\n",
       "    </tr>\n",
       "  </thead>\n",
       "  <tbody>\n",
       "    <tr>\n",
       "      <th>0</th>\n",
       "      <td>21.5931</td>\n",
       "      <td>1</td>\n",
       "      <td>11</td>\n",
       "      <td>1</td>\n",
       "    </tr>\n",
       "    <tr>\n",
       "      <th>1</th>\n",
       "      <td>25.1928</td>\n",
       "      <td>1</td>\n",
       "      <td>11</td>\n",
       "      <td>2</td>\n",
       "    </tr>\n",
       "    <tr>\n",
       "      <th>2</th>\n",
       "      <td>25.5927</td>\n",
       "      <td>1</td>\n",
       "      <td>11</td>\n",
       "      <td>3</td>\n",
       "    </tr>\n",
       "    <tr>\n",
       "      <th>3</th>\n",
       "      <td>20.0078</td>\n",
       "      <td>1</td>\n",
       "      <td>11</td>\n",
       "      <td>4</td>\n",
       "    </tr>\n",
       "    <tr>\n",
       "      <th>4</th>\n",
       "      <td>13.0589</td>\n",
       "      <td>1</td>\n",
       "      <td>11</td>\n",
       "      <td>5</td>\n",
       "    </tr>\n",
       "  </tbody>\n",
       "</table>\n",
       "</div>"
      ],
      "text/plain": [
       "   avg_mon_perc  subbasin  gcm_id  calendar_month\n",
       "0       21.5931         1      11               1\n",
       "1       25.1928         1      11               2\n",
       "2       25.5927         1      11               3\n",
       "3       20.0078         1      11               4\n",
       "4       13.0589         1      11               5"
      ]
     },
     "execution_count": 4,
     "metadata": {},
     "output_type": "execute_result"
    }
   ],
   "source": [
    "#import data\n",
    "\n",
    "#set the filepath\n",
    "csvFWI_rech_hist = r\"C:\\Users\\janel\\OneDrive\\Documents\\IU grad\\Classes F23\\EAS 690 Advanced Data Science\\G690_Test\\research_project\\data\\FWI_historical_recharge.csv\"\n",
    "csvFWI_rech_2050_45 = r'C:\\Users\\janel\\OneDrive\\Documents\\IU grad\\Classes F23\\EAS 690 Advanced Data Science\\G690_Test\\research_project\\data\\FWI_recharge_2050_RCP4.5.csv'\n",
    "\n",
    "# read in the data file\n",
    "# dates are listed in seperate columns: 30, 31, 32 for month, day, year\n",
    "IDNR_gw_full = pd.read_csv(csvFWI_rech_hist, \n",
    "                             header = 0, \n",
    "                             skiprows = 0,\n",
    "                             )\n",
    "\n",
    "# show the top of the dataset\n",
    "IDNR_gw_full.head()"
   ]
  }
 ],
 "metadata": {
  "kernelspec": {
   "display_name": "easg690",
   "language": "python",
   "name": "easg690"
  },
  "language_info": {
   "codemirror_mode": {
    "name": "ipython",
    "version": 3
   },
   "file_extension": ".py",
   "mimetype": "text/x-python",
   "name": "python",
   "nbconvert_exporter": "python",
   "pygments_lexer": "ipython3",
   "version": "3.10.13"
  }
 },
 "nbformat": 4,
 "nbformat_minor": 2
}
