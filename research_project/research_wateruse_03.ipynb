{
 "cells": [
  {
   "cell_type": "markdown",
   "metadata": {},
   "source": [
    "# Water Use: Population vs Source by US County\n",
    "We are going to look at groundwater vs surface water use using USA county-level data from 2015. \n",
    "\n",
    "I hypothesize that more populus counties will rely more heavily on groundwater than surface water. If true, this may be because what surface water exists is divided up between more people, or that surface water is more easily diverted for agriculture, or an unconsidered reason. \n",
    "\n",
    "Counties with 0% of the population served by surface water or 0% served by groundwater will not be considered. It is additionally unknown if individuals of a population can be served simultaneously by groundwater and surface water and therefore would be double-counted."
   ]
  },
  {
   "cell_type": "code",
   "execution_count": 1,
   "metadata": {},
   "outputs": [],
   "source": [
    "\"\"\"import libraries\"\"\"\n",
    "import numpy as np\n",
    "import matplotlib.pyplot as plt\n",
    "import pandas as pd\n",
    "import scipy"
   ]
  },
  {
   "cell_type": "markdown",
   "metadata": {},
   "source": [
    "The data, from 2015, is from USGS's ScienceBase-catalog. It was published in 2017 and last revised in 2018:\n",
    "\n",
    "https://www.sciencebase.gov/catalog/item/get/5af3311be4b0da30c1b245d8\n",
    "\n",
    "Citation:\n",
    "Dieter, C.A., Linsey, K.S., Caldwell, R.R., Harris, M.A., Ivahnenko, T.I., Lovelace, J.K., Maupin, M.A., and Barber, N.L., 2018, Estimated Use of Water in the United States County-Level Data for 2015 (ver. 2.0, June 2018): U.S. Geological Survey data release, https://doi.org/10.5066/F7TB15V5.\n",
    "\n",
    "The file is called \"Estimated Use of Water in the United States County-Level Data for 2015\""
   ]
  },
  {
   "cell_type": "code",
   "execution_count": 2,
   "metadata": {},
   "outputs": [],
   "source": [
    "\"\"\"Download the county water use data file\"\"\"\n",
    "\n",
    "#with panda, use URL to download file\n",
    "file_url = \"https://www.sciencebase.gov/catalog/file/get/5af3311be4b0da30c1b245d8?f=__disk__29%2Fc0%2F51%2F29c051a5166ae254b942322f77b02edcda0822ac\"\n"
   ]
  },
  {
   "cell_type": "markdown",
   "metadata": {},
   "source": [
    "There are many more columns than we need here. For this analysis, we will use:\n",
    "\n",
    "        TP-TotPop (county population by thousands),\n",
    "        PS-SWPop (Public Supply population served by surface water in thousdands)\n",
    "        PS-GWPop (Public Supply population served by surface water in thousdands)\n",
    "\n",
    "See \"Estimated_Use_of_Water_in_the_United_States_County-Level_Data_for_2015.xml\" on the same USGS ScienceBase-catalog web page for metadata."
   ]
  },
  {
   "cell_type": "code",
   "execution_count": 3,
   "metadata": {},
   "outputs": [
    {
     "name": "stderr",
     "output_type": "stream",
     "text": [
      "c:\\ProgramData\\anaconda3\\Lib\\site-packages\\openpyxl\\worksheet\\_read_only.py:79: UserWarning: Unknown extension is not supported and will be removed\n",
      "  for idx, row in parser.parse():\n"
     ]
    },
    {
     "data": {
      "text/html": [
       "<div>\n",
       "<style scoped>\n",
       "    .dataframe tbody tr th:only-of-type {\n",
       "        vertical-align: middle;\n",
       "    }\n",
       "\n",
       "    .dataframe tbody tr th {\n",
       "        vertical-align: top;\n",
       "    }\n",
       "\n",
       "    .dataframe thead th {\n",
       "        text-align: right;\n",
       "    }\n",
       "</style>\n",
       "<table border=\"1\" class=\"dataframe\">\n",
       "  <thead>\n",
       "    <tr style=\"text-align: right;\">\n",
       "      <th></th>\n",
       "      <th>STATE</th>\n",
       "      <th>COUNTY</th>\n",
       "      <th>TP-TotPop</th>\n",
       "      <th>PS-GWPop</th>\n",
       "      <th>PS-SWPop</th>\n",
       "    </tr>\n",
       "  </thead>\n",
       "  <tbody>\n",
       "    <tr>\n",
       "      <th>0</th>\n",
       "      <td>AL</td>\n",
       "      <td>Autauga County</td>\n",
       "      <td>55.347</td>\n",
       "      <td>NaN</td>\n",
       "      <td>NaN</td>\n",
       "    </tr>\n",
       "    <tr>\n",
       "      <th>1</th>\n",
       "      <td>AL</td>\n",
       "      <td>Baldwin County</td>\n",
       "      <td>203.709</td>\n",
       "      <td>NaN</td>\n",
       "      <td>NaN</td>\n",
       "    </tr>\n",
       "    <tr>\n",
       "      <th>2</th>\n",
       "      <td>AL</td>\n",
       "      <td>Barbour County</td>\n",
       "      <td>26.489</td>\n",
       "      <td>NaN</td>\n",
       "      <td>NaN</td>\n",
       "    </tr>\n",
       "    <tr>\n",
       "      <th>3</th>\n",
       "      <td>AL</td>\n",
       "      <td>Bibb County</td>\n",
       "      <td>22.583</td>\n",
       "      <td>NaN</td>\n",
       "      <td>NaN</td>\n",
       "    </tr>\n",
       "    <tr>\n",
       "      <th>4</th>\n",
       "      <td>AL</td>\n",
       "      <td>Blount County</td>\n",
       "      <td>57.673</td>\n",
       "      <td>NaN</td>\n",
       "      <td>NaN</td>\n",
       "    </tr>\n",
       "    <tr>\n",
       "      <th>...</th>\n",
       "      <td>...</td>\n",
       "      <td>...</td>\n",
       "      <td>...</td>\n",
       "      <td>...</td>\n",
       "      <td>...</td>\n",
       "    </tr>\n",
       "    <tr>\n",
       "      <th>3218</th>\n",
       "      <td>PR</td>\n",
       "      <td>Yabucoa Municipio</td>\n",
       "      <td>35.082</td>\n",
       "      <td>NaN</td>\n",
       "      <td>NaN</td>\n",
       "    </tr>\n",
       "    <tr>\n",
       "      <th>3219</th>\n",
       "      <td>PR</td>\n",
       "      <td>Yauco Municipio</td>\n",
       "      <td>37.679</td>\n",
       "      <td>NaN</td>\n",
       "      <td>NaN</td>\n",
       "    </tr>\n",
       "    <tr>\n",
       "      <th>3220</th>\n",
       "      <td>VI</td>\n",
       "      <td>St. Croix County</td>\n",
       "      <td>49.250</td>\n",
       "      <td>11.768</td>\n",
       "      <td>16.144</td>\n",
       "    </tr>\n",
       "    <tr>\n",
       "      <th>3221</th>\n",
       "      <td>VI</td>\n",
       "      <td>St. John County</td>\n",
       "      <td>4.060</td>\n",
       "      <td>0.140</td>\n",
       "      <td>0.782</td>\n",
       "    </tr>\n",
       "    <tr>\n",
       "      <th>3222</th>\n",
       "      <td>VI</td>\n",
       "      <td>St. Thomas County</td>\n",
       "      <td>50.264</td>\n",
       "      <td>3.696</td>\n",
       "      <td>19.418</td>\n",
       "    </tr>\n",
       "  </tbody>\n",
       "</table>\n",
       "<p>3223 rows × 5 columns</p>\n",
       "</div>"
      ],
      "text/plain": [
       "     STATE             COUNTY  TP-TotPop  PS-GWPop  PS-SWPop\n",
       "0       AL     Autauga County     55.347       NaN       NaN\n",
       "1       AL     Baldwin County    203.709       NaN       NaN\n",
       "2       AL     Barbour County     26.489       NaN       NaN\n",
       "3       AL        Bibb County     22.583       NaN       NaN\n",
       "4       AL      Blount County     57.673       NaN       NaN\n",
       "...    ...                ...        ...       ...       ...\n",
       "3218    PR  Yabucoa Municipio     35.082       NaN       NaN\n",
       "3219    PR    Yauco Municipio     37.679       NaN       NaN\n",
       "3220    VI   St. Croix County     49.250    11.768    16.144\n",
       "3221    VI    St. John County      4.060     0.140     0.782\n",
       "3222    VI  St. Thomas County     50.264     3.696    19.418\n",
       "\n",
       "[3223 rows x 5 columns]"
      ]
     },
     "execution_count": 3,
     "metadata": {},
     "output_type": "execute_result"
    }
   ],
   "source": [
    "\"\"\"filter in only rows we want: \n",
    "    0, state, \n",
    "    2, county, \n",
    "    6, TP-TotPop (population by thousands), \n",
    "    7, PS-SWPop (Public Supply population served by surface water in thousdands)\n",
    "    8, PS-GWPop (Public Supply population served by ground water in thousdands)\n",
    "\n",
    "    Other columns that may be useful in the future:\n",
    "        -12, TO-WGWFr (total groundwater fresh withdrawl (million gallons per day)), and \n",
    "        -9, TO-WSWFr (total fresh surface water withdrawls (million gallons per day))\"\"\"\n",
    "\n",
    "#read in data file\n",
    "Water15tot_df = pd.read_excel(file_url, sheet_name = \"usco2015v2.0\", header = 1, skiprows = (0), usecols=[0, 2, 6, 7, 8], na_values = \"--\")\n",
    "Water15tot_df #should return file once you have URL and SHEET NAME!"
   ]
  },
  {
   "cell_type": "code",
   "execution_count": 4,
   "metadata": {},
   "outputs": [
    {
     "data": {
      "text/html": [
       "<div>\n",
       "<style scoped>\n",
       "    .dataframe tbody tr th:only-of-type {\n",
       "        vertical-align: middle;\n",
       "    }\n",
       "\n",
       "    .dataframe tbody tr th {\n",
       "        vertical-align: top;\n",
       "    }\n",
       "\n",
       "    .dataframe thead th {\n",
       "        text-align: right;\n",
       "    }\n",
       "</style>\n",
       "<table border=\"1\" class=\"dataframe\">\n",
       "  <thead>\n",
       "    <tr style=\"text-align: right;\">\n",
       "      <th></th>\n",
       "      <th>STATE</th>\n",
       "      <th>COUNTY</th>\n",
       "      <th>TP-TotPop</th>\n",
       "      <th>PS-GWPop</th>\n",
       "      <th>PS-SWPop</th>\n",
       "    </tr>\n",
       "  </thead>\n",
       "  <tbody>\n",
       "    <tr>\n",
       "      <th>98</th>\n",
       "      <td>AZ</td>\n",
       "      <td>Coconino County</td>\n",
       "      <td>139.097</td>\n",
       "      <td>103.701</td>\n",
       "      <td>23.336</td>\n",
       "    </tr>\n",
       "    <tr>\n",
       "      <th>99</th>\n",
       "      <td>AZ</td>\n",
       "      <td>Gila County</td>\n",
       "      <td>53.159</td>\n",
       "      <td>44.404</td>\n",
       "      <td>0.055</td>\n",
       "    </tr>\n",
       "    <tr>\n",
       "      <th>102</th>\n",
       "      <td>AZ</td>\n",
       "      <td>La Paz County</td>\n",
       "      <td>20.152</td>\n",
       "      <td>9.107</td>\n",
       "      <td>5.275</td>\n",
       "    </tr>\n",
       "    <tr>\n",
       "      <th>103</th>\n",
       "      <td>AZ</td>\n",
       "      <td>Maricopa County</td>\n",
       "      <td>4167.947</td>\n",
       "      <td>1005.956</td>\n",
       "      <td>3119.551</td>\n",
       "    </tr>\n",
       "    <tr>\n",
       "      <th>107</th>\n",
       "      <td>AZ</td>\n",
       "      <td>Pinal County</td>\n",
       "      <td>406.584</td>\n",
       "      <td>338.189</td>\n",
       "      <td>55.825</td>\n",
       "    </tr>\n",
       "    <tr>\n",
       "      <th>...</th>\n",
       "      <td>...</td>\n",
       "      <td>...</td>\n",
       "      <td>...</td>\n",
       "      <td>...</td>\n",
       "      <td>...</td>\n",
       "    </tr>\n",
       "    <tr>\n",
       "      <th>3139</th>\n",
       "      <td>WY</td>\n",
       "      <td>Uinta County</td>\n",
       "      <td>20.822</td>\n",
       "      <td>1.160</td>\n",
       "      <td>15.978</td>\n",
       "    </tr>\n",
       "    <tr>\n",
       "      <th>3141</th>\n",
       "      <td>WY</td>\n",
       "      <td>Weston County</td>\n",
       "      <td>7.234</td>\n",
       "      <td>5.283</td>\n",
       "      <td>0.046</td>\n",
       "    </tr>\n",
       "    <tr>\n",
       "      <th>3220</th>\n",
       "      <td>VI</td>\n",
       "      <td>St. Croix County</td>\n",
       "      <td>49.250</td>\n",
       "      <td>11.768</td>\n",
       "      <td>16.144</td>\n",
       "    </tr>\n",
       "    <tr>\n",
       "      <th>3221</th>\n",
       "      <td>VI</td>\n",
       "      <td>St. John County</td>\n",
       "      <td>4.060</td>\n",
       "      <td>0.140</td>\n",
       "      <td>0.782</td>\n",
       "    </tr>\n",
       "    <tr>\n",
       "      <th>3222</th>\n",
       "      <td>VI</td>\n",
       "      <td>St. Thomas County</td>\n",
       "      <td>50.264</td>\n",
       "      <td>3.696</td>\n",
       "      <td>19.418</td>\n",
       "    </tr>\n",
       "  </tbody>\n",
       "</table>\n",
       "<p>911 rows × 5 columns</p>\n",
       "</div>"
      ],
      "text/plain": [
       "     STATE             COUNTY  TP-TotPop  PS-GWPop  PS-SWPop\n",
       "98      AZ    Coconino County    139.097   103.701    23.336\n",
       "99      AZ        Gila County     53.159    44.404     0.055\n",
       "102     AZ      La Paz County     20.152     9.107     5.275\n",
       "103     AZ    Maricopa County   4167.947  1005.956  3119.551\n",
       "107     AZ       Pinal County    406.584   338.189    55.825\n",
       "...    ...                ...        ...       ...       ...\n",
       "3139    WY       Uinta County     20.822     1.160    15.978\n",
       "3141    WY      Weston County      7.234     5.283     0.046\n",
       "3220    VI   St. Croix County     49.250    11.768    16.144\n",
       "3221    VI    St. John County      4.060     0.140     0.782\n",
       "3222    VI  St. Thomas County     50.264     3.696    19.418\n",
       "\n",
       "[911 rows x 5 columns]"
      ]
     },
     "execution_count": 4,
     "metadata": {},
     "output_type": "execute_result"
    }
   ],
   "source": [
    "\"\"\"Exclude counties with 0% of the population served by surface water or 0% served by ground water\"\"\"\n",
    "\n",
    "#drop counties we don't have data for \n",
    "Water15_df_nona = Water15tot_df.dropna()\n",
    "\n",
    "#drop counties with population entirely depended on one source\n",
    "# population is in thousdands, so dropping values == 0.000 indicates there should be at least one person dependent on the source\n",
    "Water15_df_no0_SW = Water15_df_nona.drop(Water15_df_nona[Water15_df_nona['PS-SWPop'] == 0.000].index)\n",
    "Water15_df_no0 = Water15_df_no0_SW.drop(Water15_df_no0_SW[Water15_df_no0_SW['PS-GWPop'] == 0.000].index)\n",
    "Water15_df_no0"
   ]
  },
  {
   "cell_type": "markdown",
   "metadata": {},
   "source": [
    "Now we calculate SW/GW, defined as per county the population served by surface water (in thousands) divided by the population served by groundwater (in thousands).\n",
    "\n",
    "The closer this value is to 0, the more the population is served by groundwater. The higher above 1, the more of the population is served by surface water. A value of 1 means there is an equal number of people served by groundwater and surface water.\n"
   ]
  },
  {
   "cell_type": "code",
   "execution_count": 5,
   "metadata": {},
   "outputs": [
    {
     "data": {
      "text/html": [
       "<div>\n",
       "<style scoped>\n",
       "    .dataframe tbody tr th:only-of-type {\n",
       "        vertical-align: middle;\n",
       "    }\n",
       "\n",
       "    .dataframe tbody tr th {\n",
       "        vertical-align: top;\n",
       "    }\n",
       "\n",
       "    .dataframe thead th {\n",
       "        text-align: right;\n",
       "    }\n",
       "</style>\n",
       "<table border=\"1\" class=\"dataframe\">\n",
       "  <thead>\n",
       "    <tr style=\"text-align: right;\">\n",
       "      <th></th>\n",
       "      <th>STATE</th>\n",
       "      <th>COUNTY</th>\n",
       "      <th>TP-TotPop</th>\n",
       "      <th>PS-GWPop</th>\n",
       "      <th>PS-SWPop</th>\n",
       "      <th>SW/GW</th>\n",
       "    </tr>\n",
       "  </thead>\n",
       "  <tbody>\n",
       "    <tr>\n",
       "      <th>98</th>\n",
       "      <td>AZ</td>\n",
       "      <td>Coconino County</td>\n",
       "      <td>139.097</td>\n",
       "      <td>103.701</td>\n",
       "      <td>23.336</td>\n",
       "      <td>22.503158</td>\n",
       "    </tr>\n",
       "    <tr>\n",
       "      <th>99</th>\n",
       "      <td>AZ</td>\n",
       "      <td>Gila County</td>\n",
       "      <td>53.159</td>\n",
       "      <td>44.404</td>\n",
       "      <td>0.055</td>\n",
       "      <td>0.123863</td>\n",
       "    </tr>\n",
       "    <tr>\n",
       "      <th>102</th>\n",
       "      <td>AZ</td>\n",
       "      <td>La Paz County</td>\n",
       "      <td>20.152</td>\n",
       "      <td>9.107</td>\n",
       "      <td>5.275</td>\n",
       "      <td>57.922477</td>\n",
       "    </tr>\n",
       "    <tr>\n",
       "      <th>103</th>\n",
       "      <td>AZ</td>\n",
       "      <td>Maricopa County</td>\n",
       "      <td>4167.947</td>\n",
       "      <td>1005.956</td>\n",
       "      <td>3119.551</td>\n",
       "      <td>310.108096</td>\n",
       "    </tr>\n",
       "    <tr>\n",
       "      <th>107</th>\n",
       "      <td>AZ</td>\n",
       "      <td>Pinal County</td>\n",
       "      <td>406.584</td>\n",
       "      <td>338.189</td>\n",
       "      <td>55.825</td>\n",
       "      <td>16.507042</td>\n",
       "    </tr>\n",
       "    <tr>\n",
       "      <th>...</th>\n",
       "      <td>...</td>\n",
       "      <td>...</td>\n",
       "      <td>...</td>\n",
       "      <td>...</td>\n",
       "      <td>...</td>\n",
       "      <td>...</td>\n",
       "    </tr>\n",
       "    <tr>\n",
       "      <th>3139</th>\n",
       "      <td>WY</td>\n",
       "      <td>Uinta County</td>\n",
       "      <td>20.822</td>\n",
       "      <td>1.160</td>\n",
       "      <td>15.978</td>\n",
       "      <td>1377.413793</td>\n",
       "    </tr>\n",
       "    <tr>\n",
       "      <th>3141</th>\n",
       "      <td>WY</td>\n",
       "      <td>Weston County</td>\n",
       "      <td>7.234</td>\n",
       "      <td>5.283</td>\n",
       "      <td>0.046</td>\n",
       "      <td>0.870717</td>\n",
       "    </tr>\n",
       "    <tr>\n",
       "      <th>3220</th>\n",
       "      <td>VI</td>\n",
       "      <td>St. Croix County</td>\n",
       "      <td>49.250</td>\n",
       "      <td>11.768</td>\n",
       "      <td>16.144</td>\n",
       "      <td>137.185588</td>\n",
       "    </tr>\n",
       "    <tr>\n",
       "      <th>3221</th>\n",
       "      <td>VI</td>\n",
       "      <td>St. John County</td>\n",
       "      <td>4.060</td>\n",
       "      <td>0.140</td>\n",
       "      <td>0.782</td>\n",
       "      <td>558.571429</td>\n",
       "    </tr>\n",
       "    <tr>\n",
       "      <th>3222</th>\n",
       "      <td>VI</td>\n",
       "      <td>St. Thomas County</td>\n",
       "      <td>50.264</td>\n",
       "      <td>3.696</td>\n",
       "      <td>19.418</td>\n",
       "      <td>525.378788</td>\n",
       "    </tr>\n",
       "  </tbody>\n",
       "</table>\n",
       "<p>911 rows × 6 columns</p>\n",
       "</div>"
      ],
      "text/plain": [
       "     STATE             COUNTY  TP-TotPop  PS-GWPop  PS-SWPop        SW/GW\n",
       "98      AZ    Coconino County    139.097   103.701    23.336    22.503158\n",
       "99      AZ        Gila County     53.159    44.404     0.055     0.123863\n",
       "102     AZ      La Paz County     20.152     9.107     5.275    57.922477\n",
       "103     AZ    Maricopa County   4167.947  1005.956  3119.551   310.108096\n",
       "107     AZ       Pinal County    406.584   338.189    55.825    16.507042\n",
       "...    ...                ...        ...       ...       ...          ...\n",
       "3139    WY       Uinta County     20.822     1.160    15.978  1377.413793\n",
       "3141    WY      Weston County      7.234     5.283     0.046     0.870717\n",
       "3220    VI   St. Croix County     49.250    11.768    16.144   137.185588\n",
       "3221    VI    St. John County      4.060     0.140     0.782   558.571429\n",
       "3222    VI  St. Thomas County     50.264     3.696    19.418   525.378788\n",
       "\n",
       "[911 rows x 6 columns]"
      ]
     },
     "execution_count": 5,
     "metadata": {},
     "output_type": "execute_result"
    }
   ],
   "source": [
    "Water15_df_no0[\"SW/GW\"] = (Water15_df_no0['PS-SWPop']/Water15_df_no0['PS-GWPop'])*100\n",
    "Water15_df_no0\n"
   ]
  },
  {
   "cell_type": "markdown",
   "metadata": {},
   "source": [
    "Due to the SW/GW method of calculation, as well as the deviation in county population, the data is best shown on a log-log plot (compare below)."
   ]
  },
  {
   "cell_type": "code",
   "execution_count": 6,
   "metadata": {},
   "outputs": [
    {
     "data": {
      "image/png": "[encoded data removed]",
      "text/plain": [
       "<Figure size 640x480 with 2 Axes>"
      ]
     },
     "metadata": {},
     "output_type": "display_data"
    }
   ],
   "source": [
    "\"\"\"plot SW/GW twice as a function of the total population, once on a log-log plot\"\"\"\n",
    "\n",
    "#create two subplots\n",
    "fig, (ax1, ax2) = plt.subplots(1,2)\n",
    "\n",
    "#first plot: data plotted on linear-scale axes\n",
    "ax1.scatter(Water15_df_no0['TP-TotPop'], Water15_df_no0['SW/GW'])\n",
    "ax1.set_xlabel(\"Total Population (thousands)\")\n",
    "ax1.set_ylabel(\"SW/GW\")\n",
    "\n",
    "#second plot: data plotted on log-scale axes\n",
    "ax2.scatter(Water15_df_no0['TP-TotPop'], Water15_df_no0['SW/GW'], color='orange')#this color is definitely not orange\n",
    "ax2.set_xlabel(\"Total Population (thousands) (log)\")\n",
    "ax2.set_ylabel(\"SW/GW (log)\") # not sure why this label ends up in the real estate of the first plot\n",
    "plt.xscale('log')\n",
    "plt.yscale('log')\n",
    "\n",
    "plt.show()"
   ]
  },
  {
   "cell_type": "markdown",
   "metadata": {},
   "source": [
    "The log-log axes allow us to visualize the data better. This is interesting news given that the assignment was to do a linear regression.\n",
    "\n",
    "### Linear Regression and Correlation Analyses of SW/GW and Population\n",
    "A linear regression and a correlation analysis for the data is provided below:"
   ]
  },
  {
   "cell_type": "code",
   "execution_count": 7,
   "metadata": {},
   "outputs": [
    {
     "name": "stdout",
     "output_type": "stream",
     "text": [
      "SW/GW value = 40.833264846810664 * (County Population in thousands) + 704.6904755310752\n",
      "Correlation coefficient = 0.14857838504193147\n"
     ]
    },
    {
     "data": {
      "image/png": "[encoded data removed]",
      "text/plain": [
       "<Figure size 640x480 with 1 Axes>"
      ]
     },
     "metadata": {},
     "output_type": "display_data"
    }
   ],
   "source": [
    "\"\"\"Perform linear regression and correlation analyses\"\"\"\n",
    "\n",
    "#calculate regession line\n",
    "m, b = np.polyfit(Water15_df_no0[\"TP-TotPop\"], Water15_df_no0[\"SW/GW\"], 1)\n",
    "print(\"SW/GW value =\", m, \"* (County Population in thousands) +\", b)\n",
    "\n",
    "#calculate correlation coefficient\n",
    "Water15_corr = Water15_df_no0[\"TP-TotPop\"].corr(Water15_df_no0[\"SW/GW\"])\n",
    "print(\"Correlation coefficient =\", Water15_corr)\n",
    "\n",
    "# plot the data with the regression line\n",
    "\n",
    "fig, ax = plt.subplots()\n",
    "ax.scatter(Water15_df_no0['TP-TotPop'], Water15_df_no0['SW/GW'])\n",
    "ax.plot(Water15_df_no0['TP-TotPop'], m * Water15_df_no0['TP-TotPop'] + b)\n",
    "ax.set_xlabel(\"Total County Population (thousands)\")\n",
    "ax.set_ylabel(\"SW/GW\")\n",
    "plt.show()"
   ]
  },
  {
   "cell_type": "markdown",
   "metadata": {},
   "source": [
    "With a correlation coefficient of 0.15, this may mean there is not a strong correlation between population of a county and the ratio of that county's population served by fresh water to groundwater.\n",
    "\n",
    "Or at least... not a linear correlation. "
   ]
  },
  {
   "cell_type": "markdown",
   "metadata": {},
   "source": [
    "### Performing Linear Regression and Correlation Analyses of log-scaled SW/GW and Population"
   ]
  },
  {
   "cell_type": "markdown",
   "metadata": {},
   "source": [
    "First we'll create a new dataframe with two new columns: log(SW/GW), the log of the SW/GW values, and log(Pop), the log of the TP-TotPop values. "
   ]
  },
  {
   "cell_type": "code",
   "execution_count": 14,
   "metadata": {},
   "outputs": [],
   "source": [
    "Water15_df_log = Water15_df_no0\n",
    "Water15_df_log[\"log(SW/GW)\"] = np.log(Water15_df_log['SW/GW'])\n",
    "Water15_df_log[\"log(Pop)\"] = np.log(Water15_df_log['TP-TotPop'])\n",
    "#Water15_df_log"
   ]
  },
  {
   "cell_type": "markdown",
   "metadata": {},
   "source": [
    "Then we can repeat our linear regression and correlation analyses with this transformed data. "
   ]
  },
  {
   "cell_type": "code",
   "execution_count": 16,
   "metadata": {},
   "outputs": [
    {
     "name": "stdout",
     "output_type": "stream",
     "text": [
      "Log SW/GW value = 0.3159586173839354 * Log(County Population in thousands) + 4.3574965484825166\n",
      "Correlation coefficient = 0.1767644225338839\n"
     ]
    },
    {
     "data": {
      "image/png": "[encoded data removed]",
      "text/plain": [
       "<Figure size 640x480 with 1 Axes>"
      ]
     },
     "metadata": {},
     "output_type": "display_data"
    }
   ],
   "source": [
    "\"\"\"Perform linear regression and correlation analyses\"\"\"\n",
    "\n",
    "#calculate regession line\n",
    "m, b = np.polyfit(Water15_df_log[\"log(Pop)\"], Water15_df_log[\"log(SW/GW)\"], 1)\n",
    "print(\"Log SW/GW value =\", m, \"* Log(County Population in thousands) +\", b)\n",
    "\n",
    "#calculate correlation coefficient\n",
    "Water15_corr2 = Water15_df_log[\"log(Pop)\"].corr(Water15_df_log[\"log(SW/GW)\"])\n",
    "print(\"Correlation coefficient =\", Water15_corr2)\n",
    "\n",
    "# plot the data with the regression line\n",
    "\n",
    "fig, ax = plt.subplots()\n",
    "ax.scatter(Water15_df_log[\"log(Pop)\"], Water15_df_log[\"log(SW/GW)\"], color = 'orange')\n",
    "ax.plot(Water15_df_log[\"log(Pop)\"], m * Water15_df_log[\"log(Pop)\"] + b, color = 'red')\n",
    "ax.set_xlabel(\"Log of Total County Population (thousands)\")\n",
    "ax.set_ylabel(\"Log of SW/GW\")\n",
    "plt.show()"
   ]
  },
  {
   "cell_type": "markdown",
   "metadata": {},
   "source": [
    "The data may look better, but the correlation coefficient of the log data is only bumped up to 0.18. This may indicate there is not a strong correlation between the log of population of a county and the ratio of that county's population served by fresh water to groundwater either."
   ]
  },
  {
   "cell_type": "markdown",
   "metadata": {},
   "source": [
    "Additionally, a slight positive correlation between these two values further nullifies the original hypothesis. As SW/GW increases, it indicates more use of surface water than groundwater. If population increase correlates with SW/GW increase, it indicates counties of larger population use more surface water. This may be because of the phenomenon of populations settling near surface water sources. An additional factor may have been the removal of counties dependent on only one of the two water sources.\n",
    "\n"
   ]
  }
 ],
 "metadata": {
  "kernelspec": {
   "display_name": "base",
   "language": "python",
   "name": "python3"
  },
  "language_info": {
   "codemirror_mode": {
    "name": "ipython",
    "version": 3
   },
   "file_extension": ".py",
   "mimetype": "text/x-python",
   "name": "python",
   "nbconvert_exporter": "python",
   "pygments_lexer": "ipython3",
   "version": "3.11.4"
  },
  "orig_nbformat": 4
 },
 "nbformat": 4,
 "nbformat_minor": 2
}
