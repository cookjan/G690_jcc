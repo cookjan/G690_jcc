{
  "cells": [
    {
      "cell_type": "markdown",
      "metadata": {
        "id": "bFs5DxCBW1HH"
      },
      "source": [
        "<a target=\"_blank\" href=\"https://colab.research.google.com/github/taobrienlbl/advanced_earth_science_data_analysis/blob/spring_2023_iub/lessons/07_machine_learning_intro/07_workalong02_intro_to_classes.ipynb\">\n",
        "  <img src=\"https://colab.research.google.com/assets/colab-badge.svg\" alt=\"Open In Colab\"/>\n",
        "</a>\n",
        "\n",
        "# Intro to *classes* in Python\n",
        "\n",
        "This notebook walks through some demonstrations of classes; it is accompanied by a bit of lecture."
      ]
    },
    {
      "cell_type": "code",
      "execution_count": 10,
      "metadata": {
        "id": "r4i1hqleW1HL"
      },
      "outputs": [],
      "source": [
        "\"\"\" Define a class called Animal. \"\"\"\n",
        "\n",
        "class Animal():\n",
        "\n",
        "    def __init__(self, limbs = 4, eyes = 2, tail = 1):\n",
        "        self.limbs = limbs #stores limbs as attribute of the object\n",
        "        self.eyes = eyes\n",
        "        self.tail = tail\n",
        "\n",
        "    def describe(self):\n",
        "        print(f\"I have {self.limbs} limbs, {self.eyes} eyes, and {self.tail} tail(s)\")\n",
        "\n",
        "    def speak(self):\n",
        "        #if youre defining a funciton within a class, its called a method\n",
        "        print(\"hello, I am an animal.\")"
      ]
    },
    {
      "cell_type": "code",
      "execution_count": 12,
      "metadata": {},
      "outputs": [
        {
          "name": "stdout",
          "output_type": "stream",
          "text": [
            "I have 4 limbs, 2 eyes, and 1 tail(s)\n",
            "\n",
            "hello, I am an animal.\n",
            "I have 5 limbs, 0 eyes, and 0 tail(s)\n"
          ]
        }
      ],
      "source": [
        "\"\"\"Test animal class\"\"\"\n",
        "\n",
        "pet1 = Animal() #create an animal object\n",
        "pet1.describe()\n",
        "print()\n",
        "\n",
        "#create anohter object using different # limbs\n",
        "starfish = Animal(limbs = 5, eyes = 0, tail = 0)\n",
        "starfish.speak()\n",
        "starfish.describe()"
      ]
    },
    {
      "cell_type": "markdown",
      "metadata": {},
      "source": [
        "inheritance"
      ]
    },
    {
      "cell_type": "code",
      "execution_count": 25,
      "metadata": {},
      "outputs": [],
      "source": [
        "class Dog(Animal):\n",
        "    \n",
        "    def __init__(self, name, breed):\n",
        "        \"\"\"this is the contrsuctor: it is called when a new object of type 'dog' is created\"\"\"\n",
        "        #initialize the parent but force number of limbs\n",
        "        super().__init__(limbs = 4, eyes = 2, tail = 1)\n",
        "        #store name and breed\n",
        "        self.name = name\n",
        "        self.breed = breed\n",
        "\n",
        "    def speak(self):\n",
        "        \"\"\"Prints '{dogs name}: Woof!'\"\"\"\n",
        "        print(f'{self.name}: \"Woof!\"')\n",
        "\n",
        "    def __repr__(self):\n",
        "        \"\"\"this is a special method that is called when an object is printed\"\"\"\n",
        "        return f\"Dog(name = '{self.name}, breed = '{self.breed}')\"\n",
        "        \n"
      ]
    },
    {
      "cell_type": "code",
      "execution_count": 27,
      "metadata": {},
      "outputs": [
        {
          "name": "stdout",
          "output_type": "stream",
          "text": [
            "I have 4 limbs, 2 eyes, and 1 tail(s)\n",
            "Gabby: \"Woof!\"\n",
            "Hamachi: \"Woof!\"\n"
          ]
        },
        {
          "data": {
            "text/plain": [
              "Dog(name = 'Gabby, breed = 'Corgi')"
            ]
          },
          "execution_count": 27,
          "metadata": {},
          "output_type": "execute_result"
        }
      ],
      "source": [
        "\"\"\"test dog class\"\"\"\n",
        "gabby = Dog(\"Gabby\", \"Corgi\")\n",
        "gabby.describe()\n",
        "gabby.speak()\n",
        "\n",
        "hamachi = Dog(\"Hamachi\", \"Terrier\")\n",
        "hamachi.speak()\n",
        "\n",
        "gabby"
      ]
    },
    {
      "cell_type": "code",
      "execution_count": null,
      "metadata": {
        "id": "Y9Q0iRgpW1HM"
      },
      "outputs": [],
      "source": [
        "\"\"\" Create two animal objects.\"\"\"\n"
      ]
    },
    {
      "cell_type": "code",
      "execution_count": null,
      "metadata": {
        "id": "wEG0SD9RW1HN"
      },
      "outputs": [],
      "source": [
        "\"\"\" Call the methods of the animal objects. \"\"\"\n"
      ]
    },
    {
      "cell_type": "code",
      "execution_count": null,
      "metadata": {
        "id": "QuARp2UNW1HN"
      },
      "outputs": [],
      "source": [
        "\"\"\" Create a new class called Dog that inherits from Animal. \"\"\"\n",
        "\n"
      ]
    },
    {
      "cell_type": "code",
      "execution_count": null,
      "metadata": {
        "id": "bjYUzqHgW1HO"
      },
      "outputs": [],
      "source": [
        "\"\"\"Quadratic as in y=a^2+b+c\"\"\""
      ]
    },
    {
      "cell_type": "code",
      "execution_count": 29,
      "metadata": {
        "id": "K7w2YlAOW1HO"
      },
      "outputs": [],
      "source": [
        "\"\"\" Now create a new quadratic class that has a 'gradient' method. \"\"\"\n",
        "\n",
        "class Quadratic:\n",
        "\n",
        "    def __init__(self, a, b, c):\n",
        "        \"\"\" This is the constructor: it is called when a new object of type 'Quadratic' is created \"\"\"\n",
        "        self.a = a\n",
        "        self.b = b\n",
        "        self.c = c\n",
        "        \n",
        "\n",
        "    def gradient(self, x):\n",
        "        \"\"\" Calculate the gradient of the quadratic at a given point. \"\"\"\n",
        "        return self.a*x*2 + self.b\n",
        "\n",
        "    def evaluate(self, x):\n",
        "        \"\"\" This method evaluates the polynomial \"\"\"\n",
        "        return self.a*x**2 + self.b*x + self.c\n",
        "\n",
        "    def __repr__(self):\n",
        "        \"\"\" Print the quadratic \"\"\"\n",
        "        print(f'{self.a}*x**2 + {self.b}*x + {self.c}')\n",
        "\n",
        "    def __eval__(self, x):\n",
        "        \"\"\" Evaluate the quadratic \"\"\"\n",
        "        return self.evaluate(x)"
      ]
    },
    {
      "cell_type": "code",
      "execution_count": 39,
      "metadata": {
        "id": "Ddl0RVUHW1HP"
      },
      "outputs": [
        {
          "name": "stdout",
          "output_type": "stream",
          "text": [
            "3\n",
            "2\n"
          ]
        }
      ],
      "source": [
        "\"\"\" Test the quadratic class.\"\"\"\n",
        "\n",
        "f1 = Quadratic(1,2,3)\n",
        "print(f1.evaluate(0)) #should return 3\n",
        "\n",
        "print(f1.gradient(0)) #should return 2"
      ]
    },
    {
      "cell_type": "code",
      "execution_count": null,
      "metadata": {
        "id": "6u_CV2IMW1HP"
      },
      "outputs": [],
      "source": []
    },
    {
      "cell_type": "code",
      "execution_count": null,
      "metadata": {
        "id": "u_BRVjQyW1HP"
      },
      "outputs": [],
      "source": []
    }
  ],
  "metadata": {
    "colab": {
      "provenance": []
    },
    "kernelspec": {
      "display_name": "easg690",
      "language": "python",
      "name": "easg690"
    },
    "language_info": {
      "codemirror_mode": {
        "name": "ipython",
        "version": 3
      },
      "file_extension": ".py",
      "mimetype": "text/x-python",
      "name": "python",
      "nbconvert_exporter": "python",
      "pygments_lexer": "ipython3",
      "version": "3.10.13"
    }
  },
  "nbformat": 4,
  "nbformat_minor": 0
}
