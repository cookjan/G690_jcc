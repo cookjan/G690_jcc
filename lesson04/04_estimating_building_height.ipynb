{
 "cells": [
  {
   "cell_type": "markdown",
   "metadata": {},
   "source": [
    "<a target=\"_blank\" href=\"https://colab.research.google.com/github/taobrienlbl/advanced_earth_science_data_analysis/blob/spring_2023_iub/lessons/04_digging_further_into_data_wrangling/04_estimating_building_height.ipynb\">\n",
    "  <img src=\"https://colab.research.google.com/assets/colab-badge.svg\" alt=\"Open In Colab\"/>\n",
    "</a>\n",
    "\n",
    "This exercise aims to build on your knowledge of the big-four data science libraries to use Kestrel atmospheric measurement devices to estimate the height difference between the ground floor and sixth floor of the Geology building.\n",
    "\n",
    "# Background\n",
    "\n",
    "Air pressure monotonically decreases with height in the atmosphere.  This is simply due to the fact that *air pressure is a measure of the weight of everything above*.  So higher up in the atmosphere there is less atmosphere (weight) above, and pressure decreases.\n",
    "\n",
    "One of the basic principles of fluid dynamics is that a *pressure gradient*--a change in pressure over some distance--exerts a net force on the fluid that, in the absence of other forces, would cause the fluid to move.  So why then does the atmosphere not flow away to space in response to this pressure gradient?\n",
    "\n",
    "To a very good approximation, the atmosphere is in *hydrostatic balance*, meaning that the vertical pressure gradient is balanced by the force of gravity on the air; gravity effectively negates the pressure gradient force.  This leads to one of the most essential equations in atmospheric science:\n",
    "\n",
    "$$ \\frac{\\partial p}{\\partial z} = -\\rho g$$\n",
    "\n",
    "where $p$ is the atmospheric pressure, $z$ is height away from the surface, $\\rho$ is air density, and $g$ is the gravitational acceleration (we'll use $g \\approx 9.806~\\text{m s}^{-2}$ here).\n",
    "\n",
    "If we combine this with the ideal gas law (written in a form that is convenient for atmospheric gasses, where $R_d \\approx 287~\\text{J kg}^{-1}\\text{K}^{-1}$ represents a constant for air with the composition of Earth's atmosphere), we get a differential equation for pressure.\n",
    "\n",
    "$$\\text{Ideal gas law: }~p = \\rho R_d T \\to $$\n",
    "\n",
    "$$ \\frac{\\partial p}{\\partial z} = - \\frac{p g}{R_d T} $$\n",
    "\n",
    "We can approximate the derivatives in this equation using finite differences: $\\partial p/\\partial z \\to \\Delta p / \\Delta z$, where $\\Delta$ represents a (presumably small) difference between two pressure or height measurements.  We can then use this to solve for the change in height as a function of changes in pressure:\n",
    "\n",
    "$$ \\Delta z \\approx - \\frac{R_d T}{g} \\frac{\\Delta p}{p}$$\n",
    "\n",
    "# Estimating height\n",
    "\n",
    "Now imagine that we have a device that records pressure and temperature every second or so.  If you take that device and walk up a set of stairs, the recorded pressure will drop a bit for every second that you're ascending.  A pair of measurements taken at consecutive times can be used to estimate $\\Delta p$, and the average of the two measurements can be used to estimate $p$ and $T$ over tha same time frame.  These values can be plugged in to the above formula to estimate the change in height between the two measurements.  The sum of all the changes in height then gives an estimate of the total change in height; we will have numerically integrated the differential equation that comes from combining hydrostatic balance and the ideal gas law.\n",
    "\n",
    "## Instructions\n",
    "\n",
    "1. form groups of two or three\n",
    "1. acquaint yourself with the Kestrel measuring devices, and pair it to at least one of your phones using [Kestrel Link](https://kestrelinstruments.com/link-connectivity)\n",
    "1. ensure that you can record measurements and export them to csv\n",
    "1. take the kestrel device down to the ground floor of the Geology building; go to the loop\n",
    "1. start recording\n",
    "1. either walk up the stairwell, or take the elevator, up to the 7th floor (you can only access this floor from the western stairwell)\n",
    "1. end recording\n",
    "1. export the data to a CSV file and add it to your course git folder (into a folder for lesson 04)\n",
    "1. estimate the difference in height between the two floors using the method above (*hint*: you should use `pandas`, and you should be able to make a new column for the calculation of $\\Delta p$ and $\\Delta z$ for each measurement, and then use the `.sum()` method)"
   ]
  },
  {
   "cell_type": "markdown",
   "metadata": {},
   "source": [
    "The data was gathered by Peyton and Janie"
   ]
  },
  {
   "cell_type": "code",
   "execution_count": 2,
   "metadata": {},
   "outputs": [],
   "source": [
    "\"\"\"import libraries\"\"\"\n",
    "import numpy as np\n",
    "import matplotlib.pyplot as plt\n",
    "import pandas as pd\n",
    "import scipy"
   ]
  },
  {
   "cell_type": "code",
   "execution_count": 3,
   "metadata": {},
   "outputs": [
    {
     "data": {
      "text/html": [
       "<div>\n",
       "<style scoped>\n",
       "    .dataframe tbody tr th:only-of-type {\n",
       "        vertical-align: middle;\n",
       "    }\n",
       "\n",
       "    .dataframe tbody tr th {\n",
       "        vertical-align: top;\n",
       "    }\n",
       "\n",
       "    .dataframe thead th {\n",
       "        text-align: right;\n",
       "    }\n",
       "</style>\n",
       "<table border=\"1\" class=\"dataframe\">\n",
       "  <thead>\n",
       "    <tr style=\"text-align: right;\">\n",
       "      <th></th>\n",
       "      <th>YYYY-MM-DD HH:MM:SS</th>\n",
       "      <th>°F</th>\n",
       "      <th>°F.1</th>\n",
       "      <th>%</th>\n",
       "      <th>inHg</th>\n",
       "      <th>ft</th>\n",
       "      <th>inHg.1</th>\n",
       "      <th>mph</th>\n",
       "      <th>°F.2</th>\n",
       "      <th>°F.3</th>\n",
       "      <th>ft.1</th>\n",
       "      <th>mph.1</th>\n",
       "      <th>mph.2</th>\n",
       "      <th>Deg</th>\n",
       "      <th>Deg.1</th>\n",
       "      <th>°F.4</th>\n",
       "    </tr>\n",
       "  </thead>\n",
       "  <tbody>\n",
       "    <tr>\n",
       "      <th>0</th>\n",
       "      <td>2023-09-15 14:52:26</td>\n",
       "      <td>70.4</td>\n",
       "      <td>58.8</td>\n",
       "      <td>50.2</td>\n",
       "      <td>29.29</td>\n",
       "      <td>576</td>\n",
       "      <td>29.30</td>\n",
       "      <td>0.0</td>\n",
       "      <td>69.4</td>\n",
       "      <td>51.0</td>\n",
       "      <td>1622</td>\n",
       "      <td>NaN</td>\n",
       "      <td>NaN</td>\n",
       "      <td>NaN</td>\n",
       "      <td>NaN</td>\n",
       "      <td>70.3</td>\n",
       "    </tr>\n",
       "    <tr>\n",
       "      <th>1</th>\n",
       "      <td>2023-09-15 14:52:31</td>\n",
       "      <td>70.4</td>\n",
       "      <td>58.3</td>\n",
       "      <td>49.1</td>\n",
       "      <td>29.29</td>\n",
       "      <td>581</td>\n",
       "      <td>29.29</td>\n",
       "      <td>0.0</td>\n",
       "      <td>69.4</td>\n",
       "      <td>50.4</td>\n",
       "      <td>1619</td>\n",
       "      <td>NaN</td>\n",
       "      <td>NaN</td>\n",
       "      <td>NaN</td>\n",
       "      <td>NaN</td>\n",
       "      <td>70.3</td>\n",
       "    </tr>\n",
       "    <tr>\n",
       "      <th>2</th>\n",
       "      <td>2023-09-15 14:52:36</td>\n",
       "      <td>70.2</td>\n",
       "      <td>58.1</td>\n",
       "      <td>48.5</td>\n",
       "      <td>29.30</td>\n",
       "      <td>576</td>\n",
       "      <td>29.30</td>\n",
       "      <td>0.0</td>\n",
       "      <td>69.1</td>\n",
       "      <td>49.9</td>\n",
       "      <td>1600</td>\n",
       "      <td>NaN</td>\n",
       "      <td>NaN</td>\n",
       "      <td>NaN</td>\n",
       "      <td>NaN</td>\n",
       "      <td>70.2</td>\n",
       "    </tr>\n",
       "    <tr>\n",
       "      <th>3</th>\n",
       "      <td>2023-09-15 14:52:41</td>\n",
       "      <td>70.0</td>\n",
       "      <td>58.1</td>\n",
       "      <td>48.8</td>\n",
       "      <td>29.28</td>\n",
       "      <td>584</td>\n",
       "      <td>29.29</td>\n",
       "      <td>0.0</td>\n",
       "      <td>68.9</td>\n",
       "      <td>49.9</td>\n",
       "      <td>1600</td>\n",
       "      <td>NaN</td>\n",
       "      <td>NaN</td>\n",
       "      <td>NaN</td>\n",
       "      <td>NaN</td>\n",
       "      <td>70.0</td>\n",
       "    </tr>\n",
       "    <tr>\n",
       "      <th>4</th>\n",
       "      <td>2023-09-15 14:52:46</td>\n",
       "      <td>69.9</td>\n",
       "      <td>57.9</td>\n",
       "      <td>49.2</td>\n",
       "      <td>29.28</td>\n",
       "      <td>585</td>\n",
       "      <td>29.28</td>\n",
       "      <td>0.0</td>\n",
       "      <td>68.5</td>\n",
       "      <td>50.0</td>\n",
       "      <td>1595</td>\n",
       "      <td>NaN</td>\n",
       "      <td>NaN</td>\n",
       "      <td>NaN</td>\n",
       "      <td>NaN</td>\n",
       "      <td>69.8</td>\n",
       "    </tr>\n",
       "  </tbody>\n",
       "</table>\n",
       "</div>"
      ],
      "text/plain": [
       "  YYYY-MM-DD HH:MM:SS    °F  °F.1     %   inHg   ft  inHg.1  mph  °F.2  °F.3  \\\n",
       "0 2023-09-15 14:52:26  70.4  58.8  50.2  29.29  576   29.30  0.0  69.4  51.0   \n",
       "1 2023-09-15 14:52:31  70.4  58.3  49.1  29.29  581   29.29  0.0  69.4  50.4   \n",
       "2 2023-09-15 14:52:36  70.2  58.1  48.5  29.30  576   29.30  0.0  69.1  49.9   \n",
       "3 2023-09-15 14:52:41  70.0  58.1  48.8  29.28  584   29.29  0.0  68.9  49.9   \n",
       "4 2023-09-15 14:52:46  69.9  57.9  49.2  29.28  585   29.28  0.0  68.5  50.0   \n",
       "\n",
       "   ft.1  mph.1  mph.2  Deg  Deg.1  °F.4  \n",
       "0  1622    NaN    NaN  NaN    NaN  70.3  \n",
       "1  1619    NaN    NaN  NaN    NaN  70.3  \n",
       "2  1600    NaN    NaN  NaN    NaN  70.2  \n",
       "3  1600    NaN    NaN  NaN    NaN  70.0  \n",
       "4  1595    NaN    NaN  NaN    NaN  69.8  "
      ]
     },
     "execution_count": 3,
     "metadata": {},
     "output_type": "execute_result"
    }
   ],
   "source": [
    "\"\"\"read the Kestrel data file\"\"\"\n",
    "filename = r\"C:\\Users\\janel\\OneDrive\\Documents\\IU grad\\Classes F23\\EAS 690 Advanced Data Science\\G690_Test\\lesson04\\WEATHER_-_2406604_Sep_15,_2023___2_54_34_PM.csv\"\n",
    "\n",
    "\n",
    "#read in data file\n",
    "kestrel = pd.read_csv(filename, header = 1, skiprows = 3, usecols=range(0,16), parse_dates=[0], delimiter = None, na_values = \"--\")\n",
    "kestrel.head()"
   ]
  },
  {
   "cell_type": "code",
   "execution_count": 4,
   "metadata": {},
   "outputs": [
    {
     "data": {
      "text/plain": [
       "Text(0.5, 0, 'Time')"
      ]
     },
     "execution_count": 4,
     "metadata": {},
     "output_type": "execute_result"
    },
    {
     "data": {
      "image/png": "[encoded data removed]",
      "text/plain": [
       "<Figure size 640x480 with 1 Axes>"
      ]
     },
     "metadata": {},
     "output_type": "display_data"
    }
   ],
   "source": [
    "'''plot the data'''\n",
    "kestrel.plot(x = \"YYYY-MM-DD HH:MM:SS\", y = \"inHg\");\n",
    "plt.ylabel(\"Station Pressure [inHg]\")\n",
    "plt.xlabel(\"Time\")"
   ]
  },
  {
   "cell_type": "markdown",
   "metadata": {},
   "source": [
    "We started at the bottom of the stairs and walked up. At the beginning, Peyton placed the kestrel device on the floor tile of the ground for good measure.\n",
    "\n",
    "And with a time-between-measurements of 5 seconds, we may have made too-good time in how long it took getting to the top."
   ]
  },
  {
   "cell_type": "markdown",
   "metadata": {},
   "source": [
    "### Create delta z and delta p values\n"
   ]
  },
  {
   "cell_type": "markdown",
   "metadata": {},
   "source": [
    "We will add columns in the dataset for change in pressure, average temperature, and average pressure between two nearby measurements.\n",
    "\n",
    "We will also convert temperature to Kelvin and pressure to Pa to work with our units."
   ]
  },
  {
   "cell_type": "code",
   "execution_count": 5,
   "metadata": {},
   "outputs": [
    {
     "data": {
      "text/html": [
       "<div>\n",
       "<style scoped>\n",
       "    .dataframe tbody tr th:only-of-type {\n",
       "        vertical-align: middle;\n",
       "    }\n",
       "\n",
       "    .dataframe tbody tr th {\n",
       "        vertical-align: top;\n",
       "    }\n",
       "\n",
       "    .dataframe thead th {\n",
       "        text-align: right;\n",
       "    }\n",
       "</style>\n",
       "<table border=\"1\" class=\"dataframe\">\n",
       "  <thead>\n",
       "    <tr style=\"text-align: right;\">\n",
       "      <th></th>\n",
       "      <th>YYYY-MM-DD HH:MM:SS</th>\n",
       "      <th>°F</th>\n",
       "      <th>°F.1</th>\n",
       "      <th>%</th>\n",
       "      <th>inHg</th>\n",
       "      <th>ft</th>\n",
       "      <th>inHg.1</th>\n",
       "      <th>mph</th>\n",
       "      <th>°F.2</th>\n",
       "      <th>°F.3</th>\n",
       "      <th>ft.1</th>\n",
       "      <th>mph.1</th>\n",
       "      <th>mph.2</th>\n",
       "      <th>Deg</th>\n",
       "      <th>Deg.1</th>\n",
       "      <th>°F.4</th>\n",
       "      <th>avg_K</th>\n",
       "      <th>avg_Pa</th>\n",
       "      <th>dPa</th>\n",
       "    </tr>\n",
       "  </thead>\n",
       "  <tbody>\n",
       "    <tr>\n",
       "      <th>0</th>\n",
       "      <td>2023-09-15 14:52:26</td>\n",
       "      <td>70.4</td>\n",
       "      <td>58.8</td>\n",
       "      <td>50.2</td>\n",
       "      <td>29.29</td>\n",
       "      <td>576</td>\n",
       "      <td>29.30</td>\n",
       "      <td>0.0</td>\n",
       "      <td>69.4</td>\n",
       "      <td>51.0</td>\n",
       "      <td>1622</td>\n",
       "      <td>NaN</td>\n",
       "      <td>NaN</td>\n",
       "      <td>NaN</td>\n",
       "      <td>NaN</td>\n",
       "      <td>70.3</td>\n",
       "      <td>0.000000</td>\n",
       "      <td>0.00000</td>\n",
       "      <td>0.0000</td>\n",
       "    </tr>\n",
       "    <tr>\n",
       "      <th>1</th>\n",
       "      <td>2023-09-15 14:52:31</td>\n",
       "      <td>70.4</td>\n",
       "      <td>58.3</td>\n",
       "      <td>49.1</td>\n",
       "      <td>29.29</td>\n",
       "      <td>581</td>\n",
       "      <td>29.29</td>\n",
       "      <td>0.0</td>\n",
       "      <td>69.4</td>\n",
       "      <td>50.4</td>\n",
       "      <td>1619</td>\n",
       "      <td>NaN</td>\n",
       "      <td>NaN</td>\n",
       "      <td>NaN</td>\n",
       "      <td>NaN</td>\n",
       "      <td>70.3</td>\n",
       "      <td>294.483333</td>\n",
       "      <td>99187.36310</td>\n",
       "      <td>0.0000</td>\n",
       "    </tr>\n",
       "    <tr>\n",
       "      <th>2</th>\n",
       "      <td>2023-09-15 14:52:36</td>\n",
       "      <td>70.2</td>\n",
       "      <td>58.1</td>\n",
       "      <td>48.5</td>\n",
       "      <td>29.30</td>\n",
       "      <td>576</td>\n",
       "      <td>29.30</td>\n",
       "      <td>0.0</td>\n",
       "      <td>69.1</td>\n",
       "      <td>49.9</td>\n",
       "      <td>1600</td>\n",
       "      <td>NaN</td>\n",
       "      <td>NaN</td>\n",
       "      <td>NaN</td>\n",
       "      <td>NaN</td>\n",
       "      <td>70.2</td>\n",
       "      <td>294.427778</td>\n",
       "      <td>99204.29505</td>\n",
       "      <td>33.8639</td>\n",
       "    </tr>\n",
       "    <tr>\n",
       "      <th>3</th>\n",
       "      <td>2023-09-15 14:52:41</td>\n",
       "      <td>70.0</td>\n",
       "      <td>58.1</td>\n",
       "      <td>48.8</td>\n",
       "      <td>29.28</td>\n",
       "      <td>584</td>\n",
       "      <td>29.29</td>\n",
       "      <td>0.0</td>\n",
       "      <td>68.9</td>\n",
       "      <td>49.9</td>\n",
       "      <td>1600</td>\n",
       "      <td>NaN</td>\n",
       "      <td>NaN</td>\n",
       "      <td>NaN</td>\n",
       "      <td>NaN</td>\n",
       "      <td>70.0</td>\n",
       "      <td>294.316667</td>\n",
       "      <td>99187.36310</td>\n",
       "      <td>-67.7278</td>\n",
       "    </tr>\n",
       "    <tr>\n",
       "      <th>4</th>\n",
       "      <td>2023-09-15 14:52:46</td>\n",
       "      <td>69.9</td>\n",
       "      <td>57.9</td>\n",
       "      <td>49.2</td>\n",
       "      <td>29.28</td>\n",
       "      <td>585</td>\n",
       "      <td>29.28</td>\n",
       "      <td>0.0</td>\n",
       "      <td>68.5</td>\n",
       "      <td>50.0</td>\n",
       "      <td>1595</td>\n",
       "      <td>NaN</td>\n",
       "      <td>NaN</td>\n",
       "      <td>NaN</td>\n",
       "      <td>NaN</td>\n",
       "      <td>69.8</td>\n",
       "      <td>294.233333</td>\n",
       "      <td>99153.49920</td>\n",
       "      <td>0.0000</td>\n",
       "    </tr>\n",
       "  </tbody>\n",
       "</table>\n",
       "</div>"
      ],
      "text/plain": [
       "  YYYY-MM-DD HH:MM:SS    °F  °F.1     %   inHg   ft  inHg.1  mph  °F.2  °F.3  \\\n",
       "0 2023-09-15 14:52:26  70.4  58.8  50.2  29.29  576   29.30  0.0  69.4  51.0   \n",
       "1 2023-09-15 14:52:31  70.4  58.3  49.1  29.29  581   29.29  0.0  69.4  50.4   \n",
       "2 2023-09-15 14:52:36  70.2  58.1  48.5  29.30  576   29.30  0.0  69.1  49.9   \n",
       "3 2023-09-15 14:52:41  70.0  58.1  48.8  29.28  584   29.29  0.0  68.9  49.9   \n",
       "4 2023-09-15 14:52:46  69.9  57.9  49.2  29.28  585   29.28  0.0  68.5  50.0   \n",
       "\n",
       "   ft.1  mph.1  mph.2  Deg  Deg.1  °F.4       avg_K       avg_Pa      dPa  \n",
       "0  1622    NaN    NaN  NaN    NaN  70.3    0.000000      0.00000   0.0000  \n",
       "1  1619    NaN    NaN  NaN    NaN  70.3  294.483333  99187.36310   0.0000  \n",
       "2  1600    NaN    NaN  NaN    NaN  70.2  294.427778  99204.29505  33.8639  \n",
       "3  1600    NaN    NaN  NaN    NaN  70.0  294.316667  99187.36310 -67.7278  \n",
       "4  1595    NaN    NaN  NaN    NaN  69.8  294.233333  99153.49920   0.0000  "
      ]
     },
     "execution_count": 5,
     "metadata": {},
     "output_type": "execute_result"
    }
   ],
   "source": [
    "\"\"\"add columns and find dK and dT\"\"\"\n",
    " \n",
    "kestrel[\"avg_K\"] = ((kestrel[\"°F\"] + kestrel[\"°F\"].shift(1))/2 + 459.67) * 5/9 # also convert to Kelvin\n",
    "kestrel[\"avg_Pa\"] = (kestrel[\"inHg\"] + kestrel[\"inHg\"].shift(1) )/2 * 3386.39 # also convert to Pascal\n",
    "kestrel[\"dPa\"] = kestrel[\"inHg\"].diff() * 3386.39 # also convert to Pascal\n",
    "\n",
    "\n",
    "# set the first value to zero\n",
    "kestrel.loc[0,\"avg_K\"] = 0\n",
    "kestrel.loc[0,\"dPa\"] = 0\n",
    "kestrel.loc[0,\"avg_Pa\"] = 0\n",
    "kestrel.head()"
   ]
  },
  {
   "cell_type": "markdown",
   "metadata": {},
   "source": [
    "### calculate change in height between each point"
   ]
  },
  {
   "cell_type": "code",
   "execution_count": 6,
   "metadata": {},
   "outputs": [],
   "source": [
    "\"\"\"import constants\"\"\"\n",
    "Rd = 287 # J/kg/K gas constnat\n",
    "g = 9.806 #9.8 ish m/s/s gravity"
   ]
  },
  {
   "cell_type": "code",
   "execution_count": 7,
   "metadata": {},
   "outputs": [
    {
     "name": "stdout",
     "output_type": "stream",
     "text": [
      "estimated height is 23.54744198366253 meters\n"
     ]
    }
   ],
   "source": [
    "# calculate the change in height between each measurement\n",
    "kestrel[\"d_H\"] = - Rd*kestrel[\"avg_K\"]*kestrel[\"dPa\"]/(g*kestrel[\"avg_Pa\"])\n",
    "\n",
    "kestrel[\"d_H_sum\"] = kestrel[\"d_H\"].cumsum()\n",
    "print(\"estimated height is\", kestrel[\"d_H_sum\"].iloc[-1], \"meters\")"
   ]
  },
  {
   "cell_type": "markdown",
   "metadata": {},
   "source": [
    "The Kestrel data has a column for feet. Check the data using the range of this column."
   ]
  },
  {
   "cell_type": "code",
   "execution_count": 8,
   "metadata": {},
   "outputs": [
    {
     "data": {
      "text/plain": [
       "23.4696"
      ]
     },
     "execution_count": 8,
     "metadata": {},
     "output_type": "execute_result"
    }
   ],
   "source": [
    "meters = 0.3048 * (kestrel[\"ft\"].max() - kestrel[\"ft\"].min())\n",
    "meters"
   ]
  },
  {
   "cell_type": "markdown",
   "metadata": {},
   "source": [
    "That's pretty close!"
   ]
  }
 ],
 "metadata": {
  "kernelspec": {
   "display_name": "climate_py39",
   "language": "python",
   "name": "python3"
  },
  "language_info": {
   "codemirror_mode": {
    "name": "ipython",
    "version": 3
   },
   "file_extension": ".py",
   "mimetype": "text/x-python",
   "name": "python",
   "nbconvert_exporter": "python",
   "pygments_lexer": "ipython3",
   "version": "3.11.4"
  },
  "orig_nbformat": 4
 },
 "nbformat": 4,
 "nbformat_minor": 2
}
