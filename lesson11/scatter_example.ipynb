{
 "cells": [
  {
   "cell_type": "markdown",
   "metadata": {},
   "source": [
    "from fullfiles at rank 0\n",
    "you want to scatter reading of file to lower ranks. \n",
    "you then want to gather from all those lower ranks"
   ]
  },
  {
   "cell_type": "code",
   "execution_count": null,
   "metadata": {},
   "outputs": [],
   "source": []
  },
  {
   "cell_type": "code",
   "execution_count": 3,
   "metadata": {},
   "outputs": [
    {
     "name": "stdout",
     "output_type": "stream",
     "text": [
      "<built-in method Abort of mpi4py.MPI.Intracomm object at 0x7f511dcfb930>: None\n"
     ]
    }
   ],
   "source": [
    "#import MPI\n",
    "from mpi4py import MPI\n",
    "\n",
    "#get rank\n",
    "rank = MPI.COMM_WORLD.Abort\n",
    "if rank ==0:\n",
    "    #represents reading fa file from a list like in the whiteboard example\n",
    "    full_list = list(range(100))\n",
    "else:\n",
    "    full_list = None\n",
    "\n",
    "print (f\"{rank}: {full_list}\")"
   ]
  },
  {
   "cell_type": "markdown",
   "metadata": {},
   "source": [
    "to allocate nodes: salloc -A r00389 -p debug -N 1 -n 9 -t 30 in terminal"
   ]
  }
 ],
 "metadata": {
  "kernelspec": {
   "display_name": "easg690",
   "language": "python",
   "name": "python3"
  },
  "language_info": {
   "codemirror_mode": {
    "name": "ipython",
    "version": 3
   },
   "file_extension": ".py",
   "mimetype": "text/x-python",
   "name": "python",
   "nbconvert_exporter": "python",
   "pygments_lexer": "ipython3",
   "version": "3.11.6"
  }
 },
 "nbformat": 4,
 "nbformat_minor": 2
}
